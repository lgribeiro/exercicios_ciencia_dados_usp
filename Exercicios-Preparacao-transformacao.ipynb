{
 "cells": [
  {
   "cell_type": "markdown",
   "metadata": {},
   "source": [
    "# Ciência de Dados<br><hr> Aula 1: Preparação e transformação dos dados\n"
   ]
  },
  {
   "cell_type": "markdown",
   "metadata": {},
   "source": [
    "## Exercícios de fixação"
   ]
  },
  {
   "cell_type": "markdown",
   "metadata": {},
   "source": [
    "1 - Leia os dados com erro novamente, faça a limpeza e remova as duas últimas colunas."
   ]
  },
  {
   "cell_type": "code",
   "execution_count": 228,
   "metadata": {},
   "outputs": [
    {
     "name": "stdout",
     "output_type": "stream",
     "text": [
      "Número de linhas e colunas: (25, 5)\n"
     ]
    }
   ],
   "source": [
    "# gerador de números aleatórios\n",
    "import random\n",
    "random.seed(1) # inicia a semente do gerador de números aleatórios. Importante para reprodução dos resultados\n",
    "# Pandas is used for data manipulation\n",
    "import pandas as pd # bibliote Pandas é usada para manipulação de dados\n",
    "import matplotlib.pyplot as plt # biblioteca para visualização dos dados\n",
    "\n",
    "# CSV file\n",
    "data = pd.read_csv('data/iris-with-errors.csv', header=(0))\n",
    "print(\"Número de linhas e colunas:\",data.shape)\n"
   ]
  },
  {
   "cell_type": "code",
   "execution_count": 229,
   "metadata": {},
   "outputs": [
    {
     "name": "stdout",
     "output_type": "stream",
     "text": [
      "  sepal_length sepal_width  petal_length petal_width    species\n",
      "0          5.1         3.5           1.4         0.2  duplicada\n",
      "1          5.1         3.5           1.4         0.2  duplicada\n",
      "2            ?           3           1.4         0.2     setosa\n",
      "3          4.7         3.2           1.3         0.2     setosa\n",
      "4          5.1         3.5           1.4         0.2  duplicada\n",
      "5          NaN         3.1           1.5         0.2     setosa\n",
      "6            5         3.6           1.4         0.2     setosa\n",
      "sepal_length     object\n",
      "sepal_width      object\n",
      "petal_length    float64\n",
      "petal_width      object\n",
      "species          object\n",
      "dtype: object\n"
     ]
    }
   ],
   "source": [
    "# verifica se o tipo da coluna condiz com os dadsos mostrados no comando abaixo\n",
    "print(data.head(7))\n",
    "\n",
    "# verifica o tipo da coluna\n",
    "print(data.dtypes)"
   ]
  },
  {
   "cell_type": "code",
   "execution_count": 230,
   "metadata": {},
   "outputs": [
    {
     "name": "stdout",
     "output_type": "stream",
     "text": [
      "sepal_length    2\n",
      "sepal_width     0\n",
      "petal_length    0\n",
      "petal_width     1\n",
      "species         0\n",
      "dtype: int64\n"
     ]
    }
   ],
   "source": [
    "# achando valores NaN\n",
    "print(data.isnull().sum())\n"
   ]
  },
  {
   "cell_type": "code",
   "execution_count": 231,
   "metadata": {},
   "outputs": [
    {
     "name": "stdout",
     "output_type": "stream",
     "text": [
      "5.1    4\n",
      "5.4    4\n",
      "4.4    3\n",
      "5.7    2\n",
      "4.8    2\n",
      "5      2\n",
      "4.9    1\n",
      "5.8    1\n",
      "4.6    1\n",
      "4.3    1\n",
      "4.7    1\n",
      "?      1\n",
      "Name: sepal_length, dtype: int64\n",
      "3.5    4\n",
      "3.9    3\n",
      "3      3\n",
      "3.4    3\n",
      "2.9    3\n",
      "3.1    2\n",
      "3.2    1\n",
      "4.4    1\n",
      "3.8    1\n",
      "3.6    1\n",
      "?      1\n",
      "3.7    1\n",
      "4      1\n",
      "Name: sepal_width, dtype: int64\n",
      "1.4    11\n",
      "1.5     6\n",
      "1.7     3\n",
      "1.3     2\n",
      "1.6     1\n",
      "1.1     1\n",
      "1.2     1\n",
      "Name: petal_length, dtype: int64\n",
      "0.2    14\n",
      "0.4     3\n",
      "0.3     3\n",
      "0.1     3\n",
      "?       1\n",
      "Name: petal_width, dtype: int64\n",
      "setosa       17\n",
      "duplicada     8\n",
      "Name: species, dtype: int64\n"
     ]
    }
   ],
   "source": [
    "# verificando characteres diferentes \n",
    "for col in data.columns:\n",
    "    print(data[col].value_counts())"
   ]
  },
  {
   "cell_type": "code",
   "execution_count": 278,
   "metadata": {},
   "outputs": [
    {
     "name": "stdout",
     "output_type": "stream",
     "text": [
      "Número de linhas e colunas: (25, 5)\n"
     ]
    }
   ],
   "source": [
    "import numpy as np\n",
    "import re\n",
    "\n",
    "# gerador de números aleatórios\n",
    "import random\n",
    "random.seed(1) # inicia a semente do gerador de números aleatórios. Importante para reprodução dos resultados\n",
    "# Pandas is used for data manipulation\n",
    "import pandas as pd # bibliote Pandas é usada para manipulação de dados\n",
    "import matplotlib.pyplot as plt # biblioteca para visualização dos dados\n",
    "\n",
    "# CSV file\n",
    "data = pd.read_csv('data/iris-with-errors.csv', header=(0))\n",
    "print(\"Número de linhas e colunas:\",data.shape)\n",
    "\n",
    "# usando regex para encontrar valores diferentes de float \n",
    "regex = r'^[0-9]+\\.?[0-9]+$'\n",
    "\n",
    "def not_float(x):\n",
    "    if not (pd.isna(x)):\n",
    "        if not (re.findall(regex, str(x))):\n",
    "            x = np.nan\n",
    "#             print(x)\n",
    "    return x\n",
    "for col in data.columns[:-1]:\n",
    "    data[str(col)] = data[str(col)].apply(not_float)\n"
   ]
  },
  {
   "cell_type": "code",
   "execution_count": 272,
   "metadata": {},
   "outputs": [
    {
     "data": {
      "text/html": [
       "<div>\n",
       "<style scoped>\n",
       "    .dataframe tbody tr th:only-of-type {\n",
       "        vertical-align: middle;\n",
       "    }\n",
       "\n",
       "    .dataframe tbody tr th {\n",
       "        vertical-align: top;\n",
       "    }\n",
       "\n",
       "    .dataframe thead th {\n",
       "        text-align: right;\n",
       "    }\n",
       "</style>\n",
       "<table border=\"1\" class=\"dataframe\">\n",
       "  <thead>\n",
       "    <tr style=\"text-align: right;\">\n",
       "      <th></th>\n",
       "      <th>sepal_length</th>\n",
       "      <th>sepal_width</th>\n",
       "      <th>petal_length</th>\n",
       "      <th>petal_width</th>\n",
       "      <th>species</th>\n",
       "    </tr>\n",
       "  </thead>\n",
       "  <tbody>\n",
       "    <tr>\n",
       "      <th>0</th>\n",
       "      <td>5.1</td>\n",
       "      <td>3.5</td>\n",
       "      <td>1.4</td>\n",
       "      <td>0.2</td>\n",
       "      <td>duplicada</td>\n",
       "    </tr>\n",
       "    <tr>\n",
       "      <th>1</th>\n",
       "      <td>5.1</td>\n",
       "      <td>3.5</td>\n",
       "      <td>1.4</td>\n",
       "      <td>0.2</td>\n",
       "      <td>duplicada</td>\n",
       "    </tr>\n",
       "    <tr>\n",
       "      <th>3</th>\n",
       "      <td>4.7</td>\n",
       "      <td>3.2</td>\n",
       "      <td>1.3</td>\n",
       "      <td>0.2</td>\n",
       "      <td>setosa</td>\n",
       "    </tr>\n",
       "    <tr>\n",
       "      <th>4</th>\n",
       "      <td>5.1</td>\n",
       "      <td>3.5</td>\n",
       "      <td>1.4</td>\n",
       "      <td>0.2</td>\n",
       "      <td>duplicada</td>\n",
       "    </tr>\n",
       "    <tr>\n",
       "      <th>7</th>\n",
       "      <td>5.4</td>\n",
       "      <td>3.9</td>\n",
       "      <td>1.7</td>\n",
       "      <td>0.4</td>\n",
       "      <td>duplicada</td>\n",
       "    </tr>\n",
       "    <tr>\n",
       "      <th>8</th>\n",
       "      <td>5.4</td>\n",
       "      <td>3.9</td>\n",
       "      <td>1.7</td>\n",
       "      <td>0.4</td>\n",
       "      <td>duplicada</td>\n",
       "    </tr>\n",
       "    <tr>\n",
       "      <th>11</th>\n",
       "      <td>4.4</td>\n",
       "      <td>2.9</td>\n",
       "      <td>1.4</td>\n",
       "      <td>0.2</td>\n",
       "      <td>duplicada</td>\n",
       "    </tr>\n",
       "    <tr>\n",
       "      <th>12</th>\n",
       "      <td>4.9</td>\n",
       "      <td>3.1</td>\n",
       "      <td>1.5</td>\n",
       "      <td>0.1</td>\n",
       "      <td>setosa</td>\n",
       "    </tr>\n",
       "    <tr>\n",
       "      <th>13</th>\n",
       "      <td>5.4</td>\n",
       "      <td>3.7</td>\n",
       "      <td>1.5</td>\n",
       "      <td>0.2</td>\n",
       "      <td>setosa</td>\n",
       "    </tr>\n",
       "    <tr>\n",
       "      <th>14</th>\n",
       "      <td>4.4</td>\n",
       "      <td>2.9</td>\n",
       "      <td>1.4</td>\n",
       "      <td>0.2</td>\n",
       "      <td>duplicada</td>\n",
       "    </tr>\n",
       "    <tr>\n",
       "      <th>15</th>\n",
       "      <td>4.8</td>\n",
       "      <td>3.4</td>\n",
       "      <td>1.6</td>\n",
       "      <td>0.2</td>\n",
       "      <td>setosa</td>\n",
       "    </tr>\n",
       "    <tr>\n",
       "      <th>17</th>\n",
       "      <td>4.4</td>\n",
       "      <td>2.9</td>\n",
       "      <td>1.4</td>\n",
       "      <td>0.2</td>\n",
       "      <td>duplicada</td>\n",
       "    </tr>\n",
       "    <tr>\n",
       "      <th>20</th>\n",
       "      <td>5.7</td>\n",
       "      <td>4.4</td>\n",
       "      <td>1.5</td>\n",
       "      <td>0.4</td>\n",
       "      <td>setosa</td>\n",
       "    </tr>\n",
       "    <tr>\n",
       "      <th>22</th>\n",
       "      <td>5.1</td>\n",
       "      <td>3.5</td>\n",
       "      <td>1.4</td>\n",
       "      <td>0.3</td>\n",
       "      <td>setosa</td>\n",
       "    </tr>\n",
       "  </tbody>\n",
       "</table>\n",
       "</div>"
      ],
      "text/plain": [
       "   sepal_length sepal_width  petal_length petal_width    species\n",
       "0           5.1         3.5           1.4         0.2  duplicada\n",
       "1           5.1         3.5           1.4         0.2  duplicada\n",
       "3           4.7         3.2           1.3         0.2     setosa\n",
       "4           5.1         3.5           1.4         0.2  duplicada\n",
       "7           5.4         3.9           1.7         0.4  duplicada\n",
       "8           5.4         3.9           1.7         0.4  duplicada\n",
       "11          4.4         2.9           1.4         0.2  duplicada\n",
       "12          4.9         3.1           1.5         0.1     setosa\n",
       "13          5.4         3.7           1.5         0.2     setosa\n",
       "14          4.4         2.9           1.4         0.2  duplicada\n",
       "15          4.8         3.4           1.6         0.2     setosa\n",
       "17          4.4         2.9           1.4         0.2  duplicada\n",
       "20          5.7         4.4           1.5         0.4     setosa\n",
       "22          5.1         3.5           1.4         0.3     setosa"
      ]
     },
     "execution_count": 272,
     "metadata": {},
     "output_type": "execute_result"
    }
   ],
   "source": [
    "# Remove as linhas com Nan\n",
    "data = data.dropna()\n",
    "data.head(25)"
   ]
  },
  {
   "cell_type": "code",
   "execution_count": 273,
   "metadata": {},
   "outputs": [],
   "source": [
    "# for col in data.columns:\n",
    "#     print(data[col].value_counts())"
   ]
  },
  {
   "cell_type": "code",
   "execution_count": 274,
   "metadata": {},
   "outputs": [
    {
     "data": {
      "text/plain": [
       "0     False\n",
       "1      True\n",
       "3     False\n",
       "4      True\n",
       "7     False\n",
       "8      True\n",
       "11    False\n",
       "12    False\n",
       "13    False\n",
       "14     True\n",
       "15    False\n",
       "17     True\n",
       "20    False\n",
       "22    False\n",
       "dtype: bool"
      ]
     },
     "execution_count": 274,
     "metadata": {},
     "output_type": "execute_result"
    }
   ],
   "source": [
    "# Retorna True na posição em que há uma linha duplicada\n",
    "data.duplicated()"
   ]
  },
  {
   "cell_type": "code",
   "execution_count": 275,
   "metadata": {},
   "outputs": [
    {
     "data": {
      "text/html": [
       "<div>\n",
       "<style scoped>\n",
       "    .dataframe tbody tr th:only-of-type {\n",
       "        vertical-align: middle;\n",
       "    }\n",
       "\n",
       "    .dataframe tbody tr th {\n",
       "        vertical-align: top;\n",
       "    }\n",
       "\n",
       "    .dataframe thead th {\n",
       "        text-align: right;\n",
       "    }\n",
       "</style>\n",
       "<table border=\"1\" class=\"dataframe\">\n",
       "  <thead>\n",
       "    <tr style=\"text-align: right;\">\n",
       "      <th></th>\n",
       "      <th>sepal_length</th>\n",
       "      <th>sepal_width</th>\n",
       "      <th>petal_length</th>\n",
       "      <th>petal_width</th>\n",
       "      <th>species</th>\n",
       "    </tr>\n",
       "  </thead>\n",
       "  <tbody>\n",
       "    <tr>\n",
       "      <th>0</th>\n",
       "      <td>5.1</td>\n",
       "      <td>3.5</td>\n",
       "      <td>1.4</td>\n",
       "      <td>0.2</td>\n",
       "      <td>duplicada</td>\n",
       "    </tr>\n",
       "    <tr>\n",
       "      <th>3</th>\n",
       "      <td>4.7</td>\n",
       "      <td>3.2</td>\n",
       "      <td>1.3</td>\n",
       "      <td>0.2</td>\n",
       "      <td>setosa</td>\n",
       "    </tr>\n",
       "    <tr>\n",
       "      <th>7</th>\n",
       "      <td>5.4</td>\n",
       "      <td>3.9</td>\n",
       "      <td>1.7</td>\n",
       "      <td>0.4</td>\n",
       "      <td>duplicada</td>\n",
       "    </tr>\n",
       "    <tr>\n",
       "      <th>11</th>\n",
       "      <td>4.4</td>\n",
       "      <td>2.9</td>\n",
       "      <td>1.4</td>\n",
       "      <td>0.2</td>\n",
       "      <td>duplicada</td>\n",
       "    </tr>\n",
       "    <tr>\n",
       "      <th>12</th>\n",
       "      <td>4.9</td>\n",
       "      <td>3.1</td>\n",
       "      <td>1.5</td>\n",
       "      <td>0.1</td>\n",
       "      <td>setosa</td>\n",
       "    </tr>\n",
       "    <tr>\n",
       "      <th>13</th>\n",
       "      <td>5.4</td>\n",
       "      <td>3.7</td>\n",
       "      <td>1.5</td>\n",
       "      <td>0.2</td>\n",
       "      <td>setosa</td>\n",
       "    </tr>\n",
       "    <tr>\n",
       "      <th>15</th>\n",
       "      <td>4.8</td>\n",
       "      <td>3.4</td>\n",
       "      <td>1.6</td>\n",
       "      <td>0.2</td>\n",
       "      <td>setosa</td>\n",
       "    </tr>\n",
       "    <tr>\n",
       "      <th>20</th>\n",
       "      <td>5.7</td>\n",
       "      <td>4.4</td>\n",
       "      <td>1.5</td>\n",
       "      <td>0.4</td>\n",
       "      <td>setosa</td>\n",
       "    </tr>\n",
       "    <tr>\n",
       "      <th>22</th>\n",
       "      <td>5.1</td>\n",
       "      <td>3.5</td>\n",
       "      <td>1.4</td>\n",
       "      <td>0.3</td>\n",
       "      <td>setosa</td>\n",
       "    </tr>\n",
       "  </tbody>\n",
       "</table>\n",
       "</div>"
      ],
      "text/plain": [
       "   sepal_length sepal_width  petal_length petal_width    species\n",
       "0           5.1         3.5           1.4         0.2  duplicada\n",
       "3           4.7         3.2           1.3         0.2     setosa\n",
       "7           5.4         3.9           1.7         0.4  duplicada\n",
       "11          4.4         2.9           1.4         0.2  duplicada\n",
       "12          4.9         3.1           1.5         0.1     setosa\n",
       "13          5.4         3.7           1.5         0.2     setosa\n",
       "15          4.8         3.4           1.6         0.2     setosa\n",
       "20          5.7         4.4           1.5         0.4     setosa\n",
       "22          5.1         3.5           1.4         0.3     setosa"
      ]
     },
     "execution_count": 275,
     "metadata": {},
     "output_type": "execute_result"
    }
   ],
   "source": [
    "# Remove as linhas duplicadas\n",
    "data = data.drop_duplicates()\n",
    "data.head(25)"
   ]
  },
  {
   "cell_type": "code",
   "execution_count": 276,
   "metadata": {},
   "outputs": [
    {
     "name": "stdout",
     "output_type": "stream",
     "text": [
      "Atributos atuais: Index(['sepal_length', 'sepal_width', 'petal_length', 'petal_width',\n",
      "       'species'],\n",
      "      dtype='object')\n",
      "Colunas removidas: Index(['petal_width', 'species'], dtype='object')\n"
     ]
    },
    {
     "data": {
      "text/html": [
       "<div>\n",
       "<style scoped>\n",
       "    .dataframe tbody tr th:only-of-type {\n",
       "        vertical-align: middle;\n",
       "    }\n",
       "\n",
       "    .dataframe tbody tr th {\n",
       "        vertical-align: top;\n",
       "    }\n",
       "\n",
       "    .dataframe thead th {\n",
       "        text-align: right;\n",
       "    }\n",
       "</style>\n",
       "<table border=\"1\" class=\"dataframe\">\n",
       "  <thead>\n",
       "    <tr style=\"text-align: right;\">\n",
       "      <th></th>\n",
       "      <th>sepal_length</th>\n",
       "      <th>sepal_width</th>\n",
       "      <th>petal_length</th>\n",
       "    </tr>\n",
       "  </thead>\n",
       "  <tbody>\n",
       "    <tr>\n",
       "      <th>0</th>\n",
       "      <td>5.1</td>\n",
       "      <td>3.5</td>\n",
       "      <td>1.4</td>\n",
       "    </tr>\n",
       "    <tr>\n",
       "      <th>3</th>\n",
       "      <td>4.7</td>\n",
       "      <td>3.2</td>\n",
       "      <td>1.3</td>\n",
       "    </tr>\n",
       "    <tr>\n",
       "      <th>7</th>\n",
       "      <td>5.4</td>\n",
       "      <td>3.9</td>\n",
       "      <td>1.7</td>\n",
       "    </tr>\n",
       "    <tr>\n",
       "      <th>11</th>\n",
       "      <td>4.4</td>\n",
       "      <td>2.9</td>\n",
       "      <td>1.4</td>\n",
       "    </tr>\n",
       "    <tr>\n",
       "      <th>12</th>\n",
       "      <td>4.9</td>\n",
       "      <td>3.1</td>\n",
       "      <td>1.5</td>\n",
       "    </tr>\n",
       "    <tr>\n",
       "      <th>13</th>\n",
       "      <td>5.4</td>\n",
       "      <td>3.7</td>\n",
       "      <td>1.5</td>\n",
       "    </tr>\n",
       "    <tr>\n",
       "      <th>15</th>\n",
       "      <td>4.8</td>\n",
       "      <td>3.4</td>\n",
       "      <td>1.6</td>\n",
       "    </tr>\n",
       "    <tr>\n",
       "      <th>20</th>\n",
       "      <td>5.7</td>\n",
       "      <td>4.4</td>\n",
       "      <td>1.5</td>\n",
       "    </tr>\n",
       "    <tr>\n",
       "      <th>22</th>\n",
       "      <td>5.1</td>\n",
       "      <td>3.5</td>\n",
       "      <td>1.4</td>\n",
       "    </tr>\n",
       "  </tbody>\n",
       "</table>\n",
       "</div>"
      ],
      "text/plain": [
       "   sepal_length sepal_width  petal_length\n",
       "0           5.1         3.5           1.4\n",
       "3           4.7         3.2           1.3\n",
       "7           5.4         3.9           1.7\n",
       "11          4.4         2.9           1.4\n",
       "12          4.9         3.1           1.5\n",
       "13          5.4         3.7           1.5\n",
       "15          4.8         3.4           1.6\n",
       "20          5.7         4.4           1.5\n",
       "22          5.1         3.5           1.4"
      ]
     },
     "execution_count": 276,
     "metadata": {},
     "output_type": "execute_result"
    }
   ],
   "source": [
    "print(\"Atributos atuais:\",data.columns)\n",
    "print(\"Colunas removidas:\", data.columns[[3, 4]])\n",
    "# Remove as linhas especificadas\n",
    "data = data.drop(data.columns[[3,4]], axis=1)\n",
    "data.head(25)"
   ]
  },
  {
   "cell_type": "markdown",
   "metadata": {},
   "source": [
    "2 - Leia os dados com erro novamente e insira a mediana de cada atributo onde for encontrada NaN."
   ]
  },
  {
   "cell_type": "code",
   "execution_count": 289,
   "metadata": {},
   "outputs": [
    {
     "name": "stdout",
     "output_type": "stream",
     "text": [
      "Número de linhas e colunas: (25, 5)\n"
     ]
    }
   ],
   "source": [
    "import numpy as np\n",
    "import re\n",
    "\n",
    "# gerador de números aleatórios\n",
    "import random\n",
    "random.seed(1) # inicia a semente do gerador de números aleatórios. Importante para reprodução dos resultados\n",
    "# Pandas is used for data manipulation\n",
    "import pandas as pd # bibliote Pandas é usada para manipulação de dados\n",
    "import matplotlib.pyplot as plt # biblioteca para visualização dos dados\n",
    "\n",
    "# CSV file\n",
    "data = pd.read_csv('data/iris-with-errors.csv', header=(0))\n",
    "print(\"Número de linhas e colunas:\",data.shape)\n",
    "\n",
    "# usando regex para encontrar valores diferentes de float \n",
    "regex = r'^[0-9]+\\.?[0-9]+$'\n",
    "\n",
    "def not_float(x):\n",
    "    if not (pd.isna(x)):\n",
    "        if not (re.findall(regex, str(x))):\n",
    "            x = np.nan\n",
    "\n",
    "    return x\n",
    "for col in data.columns[:-1]:\n",
    "    data[str(col)] = data[str(col)].apply(not_float)"
   ]
  },
  {
   "cell_type": "code",
   "execution_count": 291,
   "metadata": {},
   "outputs": [
    {
     "name": "stdout",
     "output_type": "stream",
     "text": [
      "colunas Index(['sepal_length', 'sepal_width', 'petal_length', 'petal_width'], dtype='object')\n",
      "averages:  [5.1 3.5 1.4 0.2]\n",
      "[[5.1 3.5 1.4 0.2]\n",
      " [5.1 3.5 1.4 0.2]\n",
      " [5.1 3.5 1.4 0.2]\n",
      " [4.7 3.2 1.3 0.2]\n",
      " [5.1 3.5 1.4 0.2]\n",
      " [5.1 3.1 1.5 0.2]\n",
      " [5.1 3.6 1.4 0.2]\n",
      " [5.4 3.9 1.7 0.4]\n",
      " [5.4 3.9 1.7 0.4]\n",
      " [4.6 3.4 1.4 0.2]\n",
      " [5.1 3.4 1.5 0.2]\n",
      " [4.4 2.9 1.4 0.2]\n",
      " [4.9 3.1 1.5 0.1]\n",
      " [5.4 3.7 1.5 0.2]\n",
      " [4.4 2.9 1.4 0.2]\n",
      " [4.8 3.4 1.6 0.2]\n",
      " [4.8 3.5 1.4 0.1]\n",
      " [4.4 2.9 1.4 0.2]\n",
      " [4.3 3.5 1.1 0.1]\n",
      " [5.8 3.5 1.2 0.2]\n",
      " [5.7 4.4 1.5 0.4]\n",
      " [5.4 3.9 1.3 0.2]\n",
      " [5.1 3.5 1.4 0.3]\n",
      " [5.7 3.5 1.7 0.3]\n",
      " [5.1 3.8 1.5 0.3]]\n"
     ]
    }
   ],
   "source": [
    "col = data.columns[:-1]\n",
    "print(\"colunas\",col)\n",
    "\n",
    "# convertemos para o formato Numpy e ignoramos a última coluna (classe)\n",
    "X = np.array(data[data.columns[0:data.shape[1]-1]], dtype = float) \n",
    "# calculamos a mediana de cada atributo e armazenamos em um vetor\n",
    "# Usamos a função nanmedian que calcula a mediana ignorando os Nan\n",
    "averages = np.nanmedian(X, axis = 0) # veja https://docs.scipy.org/doc/numpy/reference/generated/numpy.nanmean.html\n",
    "print(\"averages: \", averages)\n",
    "for i in np.arange(0, X.shape[0]):\n",
    "    for j in np.arange(0, X.shape[1]):\n",
    "        if(np.isnan(X[i,j]) == True): # verificar se é uma entrada com Nan\n",
    "            X[i,j] = averages[j] # insere a mediana\n",
    "print(X)"
   ]
  },
  {
   "cell_type": "code",
   "execution_count": 286,
   "metadata": {},
   "outputs": [
    {
     "name": "stdout",
     "output_type": "stream",
     "text": [
      "   sepal_length  sepal_width  petal_length  petal_width\n",
      "0           5.1          3.5           1.4          0.2\n",
      "1           5.1          3.5           1.4          0.2\n",
      "2           5.1          3.5           1.4          0.2\n",
      "3           4.7          3.2           1.3          0.2\n",
      "4           5.1          3.5           1.4          0.2\n"
     ]
    }
   ],
   "source": [
    "df = pd.DataFrame(data=X, columns=col)\n",
    "print(df.head(5))"
   ]
  },
  {
   "cell_type": "code",
   "execution_count": 288,
   "metadata": {},
   "outputs": [],
   "source": [
    "df.to_csv('exercicio2.csv', index=False)"
   ]
  },
  {
   "cell_type": "markdown",
   "metadata": {},
   "source": [
    "3 - Conside os dados da Iris e mostre a distribuição de probabilidades de cada uma das variáveis após a normalização e padronização."
   ]
  },
  {
   "cell_type": "code",
   "execution_count": 294,
   "metadata": {},
   "outputs": [
    {
     "name": "stdout",
     "output_type": "stream",
     "text": [
      "(150, 5)\n"
     ]
    },
    {
     "data": {
      "text/html": [
       "<div>\n",
       "<style scoped>\n",
       "    .dataframe tbody tr th:only-of-type {\n",
       "        vertical-align: middle;\n",
       "    }\n",
       "\n",
       "    .dataframe tbody tr th {\n",
       "        vertical-align: top;\n",
       "    }\n",
       "\n",
       "    .dataframe thead th {\n",
       "        text-align: right;\n",
       "    }\n",
       "</style>\n",
       "<table border=\"1\" class=\"dataframe\">\n",
       "  <thead>\n",
       "    <tr style=\"text-align: right;\">\n",
       "      <th></th>\n",
       "      <th>sepal_length</th>\n",
       "      <th>sepal_width</th>\n",
       "      <th>petal_length</th>\n",
       "      <th>petal_width</th>\n",
       "      <th>species</th>\n",
       "    </tr>\n",
       "  </thead>\n",
       "  <tbody>\n",
       "    <tr>\n",
       "      <th>0</th>\n",
       "      <td>5.1</td>\n",
       "      <td>3.5</td>\n",
       "      <td>1.4</td>\n",
       "      <td>0.2</td>\n",
       "      <td>setosa</td>\n",
       "    </tr>\n",
       "    <tr>\n",
       "      <th>1</th>\n",
       "      <td>4.9</td>\n",
       "      <td>3.0</td>\n",
       "      <td>1.4</td>\n",
       "      <td>0.2</td>\n",
       "      <td>setosa</td>\n",
       "    </tr>\n",
       "    <tr>\n",
       "      <th>2</th>\n",
       "      <td>4.7</td>\n",
       "      <td>3.2</td>\n",
       "      <td>1.3</td>\n",
       "      <td>0.2</td>\n",
       "      <td>setosa</td>\n",
       "    </tr>\n",
       "    <tr>\n",
       "      <th>3</th>\n",
       "      <td>4.6</td>\n",
       "      <td>3.1</td>\n",
       "      <td>1.5</td>\n",
       "      <td>0.2</td>\n",
       "      <td>setosa</td>\n",
       "    </tr>\n",
       "    <tr>\n",
       "      <th>4</th>\n",
       "      <td>5.0</td>\n",
       "      <td>3.6</td>\n",
       "      <td>1.4</td>\n",
       "      <td>0.2</td>\n",
       "      <td>setosa</td>\n",
       "    </tr>\n",
       "    <tr>\n",
       "      <th>5</th>\n",
       "      <td>5.4</td>\n",
       "      <td>3.9</td>\n",
       "      <td>1.7</td>\n",
       "      <td>0.4</td>\n",
       "      <td>setosa</td>\n",
       "    </tr>\n",
       "    <tr>\n",
       "      <th>6</th>\n",
       "      <td>4.6</td>\n",
       "      <td>3.4</td>\n",
       "      <td>1.4</td>\n",
       "      <td>0.3</td>\n",
       "      <td>setosa</td>\n",
       "    </tr>\n",
       "    <tr>\n",
       "      <th>7</th>\n",
       "      <td>5.0</td>\n",
       "      <td>3.4</td>\n",
       "      <td>1.5</td>\n",
       "      <td>0.2</td>\n",
       "      <td>setosa</td>\n",
       "    </tr>\n",
       "    <tr>\n",
       "      <th>8</th>\n",
       "      <td>4.4</td>\n",
       "      <td>2.9</td>\n",
       "      <td>1.4</td>\n",
       "      <td>0.2</td>\n",
       "      <td>setosa</td>\n",
       "    </tr>\n",
       "    <tr>\n",
       "      <th>9</th>\n",
       "      <td>4.9</td>\n",
       "      <td>3.1</td>\n",
       "      <td>1.5</td>\n",
       "      <td>0.1</td>\n",
       "      <td>setosa</td>\n",
       "    </tr>\n",
       "    <tr>\n",
       "      <th>10</th>\n",
       "      <td>5.4</td>\n",
       "      <td>3.7</td>\n",
       "      <td>1.5</td>\n",
       "      <td>0.2</td>\n",
       "      <td>setosa</td>\n",
       "    </tr>\n",
       "    <tr>\n",
       "      <th>11</th>\n",
       "      <td>4.8</td>\n",
       "      <td>3.4</td>\n",
       "      <td>1.6</td>\n",
       "      <td>0.2</td>\n",
       "      <td>setosa</td>\n",
       "    </tr>\n",
       "    <tr>\n",
       "      <th>12</th>\n",
       "      <td>4.8</td>\n",
       "      <td>3.0</td>\n",
       "      <td>1.4</td>\n",
       "      <td>0.1</td>\n",
       "      <td>setosa</td>\n",
       "    </tr>\n",
       "    <tr>\n",
       "      <th>13</th>\n",
       "      <td>4.3</td>\n",
       "      <td>3.0</td>\n",
       "      <td>1.1</td>\n",
       "      <td>0.1</td>\n",
       "      <td>setosa</td>\n",
       "    </tr>\n",
       "    <tr>\n",
       "      <th>14</th>\n",
       "      <td>5.8</td>\n",
       "      <td>4.0</td>\n",
       "      <td>1.2</td>\n",
       "      <td>0.2</td>\n",
       "      <td>setosa</td>\n",
       "    </tr>\n",
       "    <tr>\n",
       "      <th>15</th>\n",
       "      <td>5.7</td>\n",
       "      <td>4.4</td>\n",
       "      <td>1.5</td>\n",
       "      <td>0.4</td>\n",
       "      <td>setosa</td>\n",
       "    </tr>\n",
       "    <tr>\n",
       "      <th>16</th>\n",
       "      <td>5.4</td>\n",
       "      <td>3.9</td>\n",
       "      <td>1.3</td>\n",
       "      <td>0.4</td>\n",
       "      <td>setosa</td>\n",
       "    </tr>\n",
       "    <tr>\n",
       "      <th>17</th>\n",
       "      <td>5.1</td>\n",
       "      <td>3.5</td>\n",
       "      <td>1.4</td>\n",
       "      <td>0.3</td>\n",
       "      <td>setosa</td>\n",
       "    </tr>\n",
       "    <tr>\n",
       "      <th>18</th>\n",
       "      <td>5.7</td>\n",
       "      <td>3.8</td>\n",
       "      <td>1.7</td>\n",
       "      <td>0.3</td>\n",
       "      <td>setosa</td>\n",
       "    </tr>\n",
       "    <tr>\n",
       "      <th>19</th>\n",
       "      <td>5.1</td>\n",
       "      <td>3.8</td>\n",
       "      <td>1.5</td>\n",
       "      <td>0.3</td>\n",
       "      <td>setosa</td>\n",
       "    </tr>\n",
       "    <tr>\n",
       "      <th>20</th>\n",
       "      <td>5.4</td>\n",
       "      <td>3.4</td>\n",
       "      <td>1.7</td>\n",
       "      <td>0.2</td>\n",
       "      <td>setosa</td>\n",
       "    </tr>\n",
       "    <tr>\n",
       "      <th>21</th>\n",
       "      <td>5.1</td>\n",
       "      <td>3.7</td>\n",
       "      <td>1.5</td>\n",
       "      <td>0.4</td>\n",
       "      <td>setosa</td>\n",
       "    </tr>\n",
       "    <tr>\n",
       "      <th>22</th>\n",
       "      <td>4.6</td>\n",
       "      <td>3.6</td>\n",
       "      <td>1.0</td>\n",
       "      <td>0.2</td>\n",
       "      <td>setosa</td>\n",
       "    </tr>\n",
       "    <tr>\n",
       "      <th>23</th>\n",
       "      <td>5.1</td>\n",
       "      <td>3.3</td>\n",
       "      <td>1.7</td>\n",
       "      <td>0.5</td>\n",
       "      <td>setosa</td>\n",
       "    </tr>\n",
       "    <tr>\n",
       "      <th>24</th>\n",
       "      <td>4.8</td>\n",
       "      <td>3.4</td>\n",
       "      <td>1.9</td>\n",
       "      <td>0.2</td>\n",
       "      <td>setosa</td>\n",
       "    </tr>\n",
       "  </tbody>\n",
       "</table>\n",
       "</div>"
      ],
      "text/plain": [
       "    sepal_length  sepal_width  petal_length  petal_width species\n",
       "0            5.1          3.5           1.4          0.2  setosa\n",
       "1            4.9          3.0           1.4          0.2  setosa\n",
       "2            4.7          3.2           1.3          0.2  setosa\n",
       "3            4.6          3.1           1.5          0.2  setosa\n",
       "4            5.0          3.6           1.4          0.2  setosa\n",
       "5            5.4          3.9           1.7          0.4  setosa\n",
       "6            4.6          3.4           1.4          0.3  setosa\n",
       "7            5.0          3.4           1.5          0.2  setosa\n",
       "8            4.4          2.9           1.4          0.2  setosa\n",
       "9            4.9          3.1           1.5          0.1  setosa\n",
       "10           5.4          3.7           1.5          0.2  setosa\n",
       "11           4.8          3.4           1.6          0.2  setosa\n",
       "12           4.8          3.0           1.4          0.1  setosa\n",
       "13           4.3          3.0           1.1          0.1  setosa\n",
       "14           5.8          4.0           1.2          0.2  setosa\n",
       "15           5.7          4.4           1.5          0.4  setosa\n",
       "16           5.4          3.9           1.3          0.4  setosa\n",
       "17           5.1          3.5           1.4          0.3  setosa\n",
       "18           5.7          3.8           1.7          0.3  setosa\n",
       "19           5.1          3.8           1.5          0.3  setosa\n",
       "20           5.4          3.4           1.7          0.2  setosa\n",
       "21           5.1          3.7           1.5          0.4  setosa\n",
       "22           4.6          3.6           1.0          0.2  setosa\n",
       "23           5.1          3.3           1.7          0.5  setosa\n",
       "24           4.8          3.4           1.9          0.2  setosa"
      ]
     },
     "execution_count": 294,
     "metadata": {},
     "output_type": "execute_result"
    }
   ],
   "source": [
    "import pandas as pd\n",
    "# CSV file\n",
    "data = pd.read_csv('data/iris.csv', header=(0))\n",
    "print(data.shape)\n",
    "data.head(25)"
   ]
  },
  {
   "cell_type": "markdown",
   "metadata": {},
   "source": [
    "#### Normalizando"
   ]
  },
  {
   "cell_type": "markdown",
   "metadata": {},
   "source": [
    "Para normalizar os dados no intervalo [0,1]:"
   ]
  },
  {
   "cell_type": "code",
   "execution_count": 300,
   "metadata": {},
   "outputs": [
    {
     "name": "stdout",
     "output_type": "stream",
     "text": [
      "Maior valor da coluna: 0 : 7.9\n",
      "Menor Valor da coluna: 0 : 4.3\n",
      "Maior valor da coluna: 1 : 4.4\n",
      "Menor Valor da coluna: 1 : 2.0\n",
      "Maior valor da coluna: 2 : 6.9\n",
      "Menor Valor da coluna: 2 : 1.0\n",
      "Maior valor da coluna: 3 : 2.5\n",
      "Menor Valor da coluna: 3 : 0.1\n"
     ]
    }
   ],
   "source": [
    "import numpy as np\n",
    "from sklearn.preprocessing import MinMaxScaler\n",
    "# considera somente os atributos, ignorando a última coluna, que contem a classe\n",
    "X = np.array(data[data.columns[0:data.shape[1]-1]])\n",
    "for i  in range(X.shape[1]):\n",
    "    print(\"Maior valor da coluna:\", i, \":\", max(X[:,i]))\n",
    "    print(\"Menor Valor da coluna:\", i, \":\", min(X[:,i]))\n",
    "# prepara a função para transformar os dados\n",
    "scaler = MinMaxScaler(feature_range=(0, 1))\n",
    "# Realiza a normalização e coloca em um novo vetor\n",
    "X_norm = scaler.fit_transform(X)\n",
    "# print(X_norm)"
   ]
  },
  {
   "cell_type": "code",
   "execution_count": 296,
   "metadata": {},
   "outputs": [
    {
     "name": "stdout",
     "output_type": "stream",
     "text": [
      "Mínimo dos atributos: [0. 0. 0. 0.]\n",
      "Máximo dos atributos: [1. 1. 1. 1.]\n"
     ]
    }
   ],
   "source": [
    "# Ou seja, o máximo e mínimo do novo conjunto de dados:\n",
    "print('Mínimo dos atributos:', np.amin(X_norm, axis=0))\n",
    "print('Máximo dos atributos:', np.amax(X_norm, axis=0))"
   ]
  },
  {
   "cell_type": "code",
   "execution_count": null,
   "metadata": {},
   "outputs": [],
   "source": []
  },
  {
   "cell_type": "markdown",
   "metadata": {},
   "source": [
    "#### Padronizando"
   ]
  },
  {
   "cell_type": "markdown",
   "metadata": {},
   "source": [
    "Para realizarmos a padronização dos dados, de forma que os atributos apresentem média igual a zero e variância igual a 1, o procedimento é parecido."
   ]
  },
  {
   "cell_type": "code",
   "execution_count": 298,
   "metadata": {},
   "outputs": [],
   "source": [
    "from sklearn.preprocessing import StandardScaler\n",
    "X = np.array(data[data.columns[0:data.shape[1]-1]])\n",
    "# prepara a função para transformar os dados\n",
    "scaler = StandardScaler().fit(X)\n",
    "# realiza a padronização (média=0, variância = 1)\n",
    "rescaledX = scaler.transform(X)\n",
    "# print(rescaledX)"
   ]
  },
  {
   "cell_type": "code",
   "execution_count": 299,
   "metadata": {},
   "outputs": [
    {
     "name": "stdout",
     "output_type": "stream",
     "text": [
      "Media da coluna 0 é igual a:  -4.736951571734001e-16\n",
      "Desvio padrão da coluna 0 é igual a:  1.0 \n",
      "\n",
      "Media da coluna 1 é igual a:  -6.631732200427602e-16\n",
      "Desvio padrão da coluna 1 é igual a:  0.9999999999999999 \n",
      "\n",
      "Media da coluna 2 é igual a:  3.315866100213801e-16\n",
      "Desvio padrão da coluna 2 é igual a:  0.9999999999999998 \n",
      "\n",
      "Media da coluna 3 é igual a:  -2.842170943040401e-16\n",
      "Desvio padrão da coluna 3 é igual a:  1.0 \n",
      "\n"
     ]
    }
   ],
   "source": [
    "# Vamos verificar se cada coluna apresenta média igual a zero e desvio padrão igual a um.\n",
    "for i in np.arange(0,rescaledX.shape[1]):\n",
    "    print('Media da coluna', i, 'é igual a: ', np.mean(rescaledX[:,i]))\n",
    "    print('Desvio padrão da coluna', i, 'é igual a: ', np.std(rescaledX[:,i]),'\\n')"
   ]
  },
  {
   "cell_type": "code",
   "execution_count": null,
   "metadata": {},
   "outputs": [],
   "source": [
    "Terminarrr"
   ]
  },
  {
   "cell_type": "markdown",
   "metadata": {},
   "source": [
    "4 - Reamostre os dados da Iris e selecione 10 elementos em cada classe."
   ]
  },
  {
   "cell_type": "code",
   "execution_count": 315,
   "metadata": {},
   "outputs": [
    {
     "name": "stdout",
     "output_type": "stream",
     "text": [
      "(150, 5)\n"
     ]
    }
   ],
   "source": [
    "import pandas as pd\n",
    "# CSV file\n",
    "data = pd.read_csv('data/iris.csv', header=(0))\n",
    "print(data.shape)\n",
    "# data.head(25)"
   ]
  },
  {
   "cell_type": "code",
   "execution_count": 316,
   "metadata": {},
   "outputs": [
    {
     "name": "stdout",
     "output_type": "stream",
     "text": [
      "classes ['setosa' 'versicolor' 'virginica']\n",
      "[50. 50. 50.]\n"
     ]
    }
   ],
   "source": [
    "# O histograma do número de elementos em cada classe:\n",
    "classes = data[data.columns[-1]]\n",
    "# armazena os nomes das classes\n",
    "cl = np.unique(classes)\n",
    "print(\"classes\", cl)\n",
    "# armazena o número de elementos em cada classe\n",
    "ncl = np.zeros(len(cl))\n",
    "for i in np.arange(0, len(cl)):\n",
    "    a = classes == cl[i]\n",
    "    ncl[i] = len(classes[a])\n",
    "print(ncl)"
   ]
  },
  {
   "cell_type": "code",
   "execution_count": 317,
   "metadata": {},
   "outputs": [
    {
     "data": {
      "image/png": "[encoded data removed]",
      "text/plain": [
       "<Figure size 432x288 with 1 Axes>"
      ]
     },
     "metadata": {
      "needs_background": "light"
     },
     "output_type": "display_data"
    }
   ],
   "source": [
    "# número de classes\n",
    "numbers = np.arange(0, len(cl))\n",
    "plt.bar(numbers, ncl,  alpha=.75)\n",
    "# mostra o nome das classes ao invés dos números\n",
    "plt.xticks(numbers, cl)\n",
    "plt.title('Número de elementos em cada classe')\n",
    "plt.show(True)"
   ]
  },
  {
   "cell_type": "markdown",
   "metadata": {},
   "source": [
    "Podemos redistribuir os dados de modo que cada classes contenha o mesmo número de elementos."
   ]
  },
  {
   "cell_type": "markdown",
   "metadata": {},
   "source": [
    "Vamos balancear os dados de forma que cada classe contenha $N$ elementos. Escolhermos $N$ elementos de forma aleatória, sem reposição, de cada classe."
   ]
  },
  {
   "cell_type": "code",
   "execution_count": 331,
   "metadata": {},
   "outputs": [
    {
     "name": "stdout",
     "output_type": "stream",
     "text": [
      "Dados obtidos a partir da amostragem\n",
      "[[4.8 3.4 1.6 0.2 'setosa']\n",
      " [5.0 3.4 1.6 0.4 'setosa']\n",
      " [4.9 3.1 1.5 0.1 'setosa']\n",
      " [5.1 3.5 1.4 0.3 'setosa']\n",
      " [4.5 2.3 1.3 0.3 'setosa']\n",
      " [4.4 3.2 1.3 0.2 'setosa']\n",
      " [4.6 3.2 1.4 0.2 'setosa']\n",
      " [5.7 4.4 1.5 0.4 'setosa']\n",
      " [5.7 3.8 1.7 0.3 'setosa']\n",
      " [5.5 3.5 1.3 0.2 'setosa']\n",
      " [6.4 2.9 4.3 1.3 'versicolor']\n",
      " [5.5 2.6 4.4 1.2 'versicolor']\n",
      " [6.6 2.9 4.6 1.3 'versicolor']\n",
      " [5.7 2.8 4.5 1.3 'versicolor']\n",
      " [5.1 2.5 3.0 1.1 'versicolor']\n",
      " [6.4 3.2 4.5 1.5 'versicolor']\n",
      " [6.5 2.8 4.6 1.5 'versicolor']\n",
      " [6.0 2.9 4.5 1.5 'versicolor']\n",
      " [6.3 3.3 4.7 1.6 'versicolor']\n",
      " [5.7 2.6 3.5 1.0 'versicolor']\n",
      " [7.7 3.8 6.7 2.2 'virginica']\n",
      " [7.9 3.8 6.4 2.0 'virginica']\n",
      " [6.3 3.3 6.0 2.5 'virginica']\n",
      " [6.2 2.8 4.8 1.8 'virginica']\n",
      " [6.5 3.0 5.2 2.0 'virginica']\n",
      " [5.6 2.8 4.9 2.0 'virginica']\n",
      " [6.9 3.1 5.1 2.3 'virginica']\n",
      " [7.2 3.0 5.8 1.6 'virginica']\n",
      " [6.1 3.0 4.9 1.8 'virginica']\n",
      " [5.8 2.8 5.1 2.4 'virginica']]\n"
     ]
    }
   ],
   "source": [
    "N = 10\n",
    "col = data.columns\n",
    "# classes\n",
    "cl = np.unique(classes)\n",
    "X = np.array(data)\n",
    "Xnew = []\n",
    "cls = np.array(data[data.columns[-1]])\n",
    "for i in np.arange(0, len(cl)):\n",
    "    a = np.argwhere(cls == cl[i])\n",
    "    # seleciona os índices nos dados de forma aleatória\n",
    "    inds = np.random.choice(a[:,0],N,replace=False)\n",
    "    Xnew.append(X[inds,:])\n",
    "Xnew = np.array(Xnew)\n",
    "print('Dados obtidos a partir da amostragem')\n",
    "\n",
    "# Transformando em um numpy 2d\n",
    "Xnew = Xnew.reshape(30, -1)\n",
    "print(Xnew)\n",
    "df = pd.DataFrame(data=Xnew, columns=col)\n"
   ]
  },
  {
   "cell_type": "code",
   "execution_count": 330,
   "metadata": {},
   "outputs": [
    {
     "name": "stdout",
     "output_type": "stream",
     "text": [
      "classes ['setosa' 'versicolor' 'virginica']\n",
      "[10. 10. 10.]\n"
     ]
    }
   ],
   "source": [
    "# O histograma do número de elementos em cada classe:\n",
    "classes = df[data.columns[-1]]\n",
    "# armazena os nomes das classes\n",
    "cl = np.unique(classes)\n",
    "print(\"classes\", cl)\n",
    "# armazena o número de elementos em cada classe\n",
    "ncl = np.zeros(len(cl))\n",
    "for i in np.arange(0, len(cl)):\n",
    "    a = classes == cl[i]\n",
    "    ncl[i] = len(classes[a])\n",
    "print(ncl)"
   ]
  },
  {
   "cell_type": "markdown",
   "metadata": {},
   "source": [
    "5 - Monte um boxplot para cada variável dos dados da Iris."
   ]
  },
  {
   "cell_type": "code",
   "execution_count": null,
   "metadata": {},
   "outputs": [],
   "source": []
  },
  {
   "cell_type": "markdown",
   "metadata": {},
   "source": [
    "6 - Encontre os outliers nos dados das bases Iris e BostonHouse."
   ]
  },
  {
   "cell_type": "code",
   "execution_count": null,
   "metadata": {},
   "outputs": [],
   "source": []
  },
  {
   "cell_type": "code",
   "execution_count": null,
   "metadata": {},
   "outputs": [],
   "source": []
  }
 ],
 "metadata": {
  "kernelspec": {
   "display_name": "Python 3",
   "language": "python",
   "name": "python3"
  },
  "language_info": {
   "codemirror_mode": {
    "name": "ipython",
    "version": 3
   },
   "file_extension": ".py",
   "mimetype": "text/x-python",
   "name": "python",
   "nbconvert_exporter": "python",
   "pygments_lexer": "ipython3",
   "version": "3.7.7"
  }
 },
 "nbformat": 4,
 "nbformat_minor": 2
}
