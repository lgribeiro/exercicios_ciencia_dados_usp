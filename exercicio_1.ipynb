{
  "nbformat": 4,
  "nbformat_minor": 0,
  "metadata": {
    "kernelspec": {
      "name": "python3",
      "display_name": "Python 3",
      "language": "python"
    },
    "language_info": {
      "name": "python",
      "version": "3.7.6",
      "mimetype": "text/x-python",
      "codemirror_mode": {
        "name": "ipython",
        "version": 3
      },
      "pygments_lexer": "ipython3",
      "nbconvert_exporter": "python",
      "file_extension": ".py"
    },
    "colab": {
      "name": "exercicio_1.ipynb",
      "provenance": []
    }
  },
  "cells": [
    {
      "cell_type": "markdown",
      "metadata": {
        "id": "SH3oHMXHNW8k"
      },
      "source": [
        "** exercicio 1 paramétrico **"
      ]
    },
    {
      "cell_type": "code",
      "metadata": {
        "_uuid": "d629ff2d2480ee46fbb7e2d37f6b5fab8052498a",
        "_cell_guid": "79c7e3d0-c299-4dcb-8224-4455121ee9b0",
        "trusted": true,
        "id": "A59RfBtpNW8s",
        "outputId": "2ece7fac-1f67-4867-f7d3-4d7b31be1f5e"
      },
      "source": [
        "import random\n",
        "import pandas as pd\n",
        "import numpy as np\n",
        "import matplotlib.pyplot as plt\n",
        "from sklearn.model_selection import train_test_split\n",
        "from sklearn.preprocessing import StandardScaler\n",
        "from scipy.stats import multivariate_normal\n",
        "from sklearn.metrics import accuracy_score\n",
        "\n",
        "random.seed(42) \n",
        "\n",
        "data = pd.read_csv('../input/testecoracao/heart.csv', header=(0))\n",
        "\n",
        "data = data.dropna(axis='rows') #remove NaN\n",
        "\n",
        "\n",
        "classes = np.array(pd.unique(data[data.columns[-1]]), dtype=int)  \n",
        "\n",
        "\n",
        "# Converte para matriz e vetor do numpy\n",
        "data = data.to_numpy()\n",
        "nrow,ncol = data.shape\n",
        "y = data[:,-1]\n",
        "X = data[:,0:ncol-1]\n",
        "\n",
        "from sklearn.preprocessing import StandardScaler\n",
        "scaler = StandardScaler().fit(X)\n",
        "X = scaler.transform(X)\n",
        "\n",
        "\n",
        "print('Media: ', np.mean(X, axis = 0))\n",
        "print('Desvio Padrao:', np.std(X, axis = 0))\n",
        "\n",
        "\n",
        "from sklearn.model_selection import train_test_split\n",
        "p = 0.8 # fracao de elementos no conjunto de treinamento\n",
        "x_train, x_test, y_train, y_test = train_test_split(X, y, train_size = p, random_state = 42)\n",
        "\n",
        "from scipy.stats import multivariate_normal\n",
        "\n",
        "\n",
        "#matrix to store the probabilities\n",
        "P = pd.DataFrame(data=np.zeros((x_test.shape[0], len(classes))), columns = classes) \n",
        "\n",
        "Pc = np.zeros(len(classes)) #fraction of elements in each class\n",
        "\n",
        "for i in np.arange(0, len(classes)): # Para cada classe\n",
        "    elements = tuple(np.where(y_train == classes[i])) # elmentos na classe i\n",
        "    elements = elements[0]\n",
        "    Pc[i] = len(elements)/len(y_train) # Probabilidade pertencer a classe i\n",
        "    Z = x_train[elements,:] # Elementos no conjunto de treinamento\n",
        "    m = np.mean(Z, axis = 0) # Vetor media\n",
        "    cv = np.cov(np.transpose(Z)) # Matriz de covariancia\n",
        "    for j in np.arange(0,x_test.shape[0]): # para cada observacao no conjunto de teste\n",
        "        x = x_test[j,:]\n",
        "        # calcula a probabilidade pertencer a cada classe\n",
        "        pj = multivariate_normal.pdf(x, mean=m, cov=cv, allow_singular=True)\n",
        "        P[classes[i]][j] = pj*Pc[i]\n",
        "        \n",
        "        \n",
        "y_pred = [] # Vetor com as classes preditas\n",
        "for i in np.arange(0, x_test.shape[0]):\n",
        "    c = np.argmax(np.array(P.iloc[[i]]))\n",
        "    y_pred.append(classes[c])\n",
        "y_pred = np.array(y_pred, dtype=int)\n",
        "# calcula a acuracia\n",
        "score = accuracy_score(y_pred, y_test)\n",
        "print('\\nAcuracia Bayesiano paramétrico:', score)"
      ],
      "execution_count": null,
      "outputs": [
        {
          "output_type": "stream",
          "text": [
            "Media:  [ 4.69005106e-17 -1.40701532e-16  2.34502553e-17 -7.03507659e-16\n",
            " -1.11388713e-16 -2.34502553e-17  1.46564096e-16 -6.80057404e-16\n",
            " -4.69005106e-17  2.34502553e-17 -1.40701532e-16 -2.34502553e-17\n",
            " -1.64151787e-16]\n",
            "Desvio Padrao: [1. 1. 1. 1. 1. 1. 1. 1. 1. 1. 1. 1. 1.]\n",
            "Acuracia Bayesiano paramétrico: 0.8360655737704918\n"
          ],
          "name": "stdout"
        }
      ]
    },
    {
      "cell_type": "markdown",
      "metadata": {
        "id": "aPfQpsX5NW8v"
      },
      "source": [
        "exercicio 1 não paramétrico"
      ]
    },
    {
      "cell_type": "code",
      "metadata": {
        "trusted": true,
        "id": "HDIEJpQONW8v",
        "outputId": "57cca22a-900b-49b5-d9db-5b0976682df6"
      },
      "source": [
        "import random\n",
        "import pandas as pd\n",
        "import numpy as np\n",
        "import matplotlib.pyplot as plt\n",
        "from sklearn.model_selection import train_test_split\n",
        "from sklearn.preprocessing import StandardScaler\n",
        "from sklearn.neighbors import KernelDensity\n",
        "from sklearn.metrics import accuracy_score\n",
        "\n",
        "random.seed(42)\n",
        "data = pd.read_csv('../input/testecoracao/heart.csv', header=(0))\n",
        "\n",
        "classes = np.array(pd.unique(data[data.columns[-1]]), dtype=int)  \n",
        "\n",
        "# Converte para matriz e vetor do numpy\n",
        "data = data.to_numpy()\n",
        "nrow,ncol = data.shape\n",
        "y = data[:,-1]\n",
        "X = data[:,0:ncol-1]\n",
        "\n",
        "# Transforma os dados para terem media igual a zero e variancia igual a 1\n",
        "scaler = StandardScaler().fit(X)\n",
        "X = scaler.transform(X)\n",
        "\n",
        "# Seleciona os conjuntos de treinamento e teste\n",
        "p = 0.8 # fraction of elements in the training set\n",
        "x_train, x_test, y_train, y_test = train_test_split(X, y, train_size = p, random_state = 42)\n",
        "\n",
        "# Matriz que armazena as probabilidades para cada classe\n",
        "P = pd.DataFrame(data=np.zeros((x_test.shape[0], len(classes))), columns = classes) \n",
        "Pc = np.zeros(len(classes)) # Armaze a fracao de elementos em cada classe\n",
        "h = 2\n",
        "for i in np.arange(0, len(classes)): # Para cada classe\n",
        "    elements = tuple(np.where(y_train == classes[i])) # elmentos na classe i\n",
        "    elements = elements[0]\n",
        "    Pc[i] = len(elements)/len(y_train) # Probabilidade pertencer a classe i\n",
        "    Z = x_train[elements,:] # Elementos no conjunto de treinamento\n",
        "    kde = KernelDensity(kernel='gaussian', bandwidth=h).fit(Z)\n",
        "    for j in np.arange(0,x_test.shape[0]): # para cada observacao no conjunto de teste\n",
        "        x = x_test[j,:]\n",
        "        x = x.reshape((1,len(x)))\n",
        "        # calcula a probabilidade pertencer a cada classe\n",
        "        pj = np.exp(kde.score_samples(x)) \n",
        "        P[classes[i]][j] = pj*Pc[i]\n",
        "        \n",
        "y_pred = [] # Vetor com as classes preditas\n",
        "for i in np.arange(0, x_test.shape[0]):\n",
        "    c = np.argmax(np.array(P.iloc[[i]]))\n",
        "    y_pred.append(classes[c])\n",
        "y_pred = np.array(y_pred, dtype=int)\n",
        "# calcula a acuracia\n",
        "score = accuracy_score(y_pred, y_test)\n",
        "print('Acuracia não-parametrico:', score)"
      ],
      "execution_count": null,
      "outputs": [
        {
          "output_type": "stream",
          "text": [
            "Acuracia não-parametrico: 0.8852459016393442\n"
          ],
          "name": "stdout"
        }
      ]
    },
    {
      "cell_type": "markdown",
      "metadata": {
        "id": "Cj5CYVLrNW8x"
      },
      "source": [
        "Exercicio 1 Naive-Bayes"
      ]
    },
    {
      "cell_type": "code",
      "metadata": {
        "trusted": true,
        "id": "smZcZbADNW8x",
        "outputId": "c5ff906a-2559-4b0b-cff0-a5baed4046b2"
      },
      "source": [
        "import random\n",
        "import pandas as pd\n",
        "import numpy as np\n",
        "import matplotlib.pyplot as plt\n",
        "from sklearn.model_selection import train_test_split\n",
        "from sklearn.preprocessing import StandardScaler\n",
        "from sklearn.naive_bayes import GaussianNB\n",
        "from sklearn.metrics import accuracy_score\n",
        "\n",
        "random.seed(42) \n",
        "\n",
        "data = pd.read_csv('../input/testecoracao/heart.csv', header=(0))\n",
        "\n",
        "classes = np.array(pd.unique(data[data.columns[-1]]), dtype=int)  \n",
        "\n",
        "# Converte para matriz e vetor do numpy\n",
        "data = data.to_numpy()\n",
        "nrow,ncol = data.shape\n",
        "y = data[:,-1]\n",
        "X = data[:,0:ncol-1]\n",
        "\n",
        "# Transforma os dados para terem media igual a zero e variancia igual a 1\n",
        "scaler = StandardScaler().fit(X)\n",
        "X = scaler.transform(X)\n",
        "\n",
        "# Seleciona os conjuntos de treinamento e teste\n",
        "p = 0.8 # fraction of elements in the test set\n",
        "X_train, X_test, y_train, y_test = train_test_split(X, y, train_size = p, random_state = 42)\n",
        "\n",
        "# ajusta o classificador Naive-Bayes de acordo com os dados\n",
        "model = GaussianNB()\n",
        "model.fit(X_train, y_train)\n",
        "# realiza a predicao\n",
        "y_pred = model.predict(X_test)\n",
        "# calcula a acuracia\n",
        "score = accuracy_score(y_pred, y_test)\n",
        "print('Acuracia Naive-Bayes:', score)\n",
        "\n"
      ],
      "execution_count": null,
      "outputs": [
        {
          "output_type": "stream",
          "text": [
            "Acuracia Naive-Bayes: 0.8688524590163934\n"
          ],
          "name": "stdout"
        }
      ]
    }
  ]
}