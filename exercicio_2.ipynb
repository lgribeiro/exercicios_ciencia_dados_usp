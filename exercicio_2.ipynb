{
 "cells": [
  {
   "cell_type": "markdown",
   "metadata": {},
   "source": [
    "# SME0828 - Introdução à Ciência de Dados (2020)"
   ]
  },
  {
   "cell_type": "markdown",
   "metadata": {},
   "source": [
    "\n",
    "### Projeto: Classificaçãoaulo, São Carlos, Brasil.\n",
    "#### Professor:\n",
    "Francisco Aparecido Rodrigues, francisco@icmc.usp.br.\n",
    "#### Alunos:\n",
    "Luiz Gustavo Ribeiro - 5967710 <br>\n",
    "Pedro Stefanelli - 8531272 <br>\n",
    "Diego Talarico - 3166561"
   ]
  },
  {
   "cell_type": "markdown",
   "metadata": {
    "id": "RYPYoI61Nz8g"
   },
   "source": [
    "### Exercício 2\n",
    "\n",
    "No classificar não-paramétrico, verifique o efeito do hiperparâmetro h na classificação dos dados de\n",
    "diabetes, encontrando seu melhor valor:\n",
    "https://www.kaggle.com/uciml/pima-indians-diabetes-database\n"
   ]
  },
  {
   "cell_type": "code",
   "execution_count": 4,
   "metadata": {
    "id": "8HsOw6e_Nz8h",
    "outputId": "5d9f9636-6382-4615-f714-09abaf032b73"
   },
   "outputs": [],
   "source": [
    "import random\n",
    "import pandas as pd\n",
    "import numpy as np\n",
    "import matplotlib.pyplot as plt\n",
    "from sklearn.model_selection import train_test_split\n",
    "from sklearn.preprocessing import StandardScaler\n",
    "from sklearn.neighbors import KernelDensity\n",
    "from sklearn.metrics import accuracy_score\n",
    "import numpy as np\n",
    "from matplotlib.pyplot import cm\n",
    "\n",
    "color=['red', 'blue', 'gray', 'black', 'green', 'lightblue']\n",
    "\n",
    "random.seed(42)\n",
    "data = pd.read_csv('data/diabetes.csv', header=(0))\n",
    "\n",
    "classes = np.array(pd.unique(data[data.columns[-1]]), dtype=int)\n",
    "\n",
    "# Converte para matriz e vetor do numpy\n",
    "data = data.to_numpy()\n",
    "nrow,ncol = data.shape\n",
    "y = data[:,-1]\n",
    "X = data[:,0:ncol-1]\n",
    "\n"
   ]
  },
  {
   "cell_type": "code",
   "execution_count": 10,
   "metadata": {
    "id": "opor6NxwNz8i"
   },
   "outputs": [],
   "source": [
    "def transformer(X,y):\n",
    "    # Transforma os dados para terem media igual a zero e variancia igual a 1\n",
    "    scaler = StandardScaler().fit(X)\n",
    "    X = scaler.transform(X)\n",
    "\n",
    "    # Seleciona os conjuntos de treinamento e teste\n",
    "    p = 0.8 # fraction of elements in the test set\n",
    "    \n",
    "    X_train, X_test, y_train, y_test = train_test_split(X, y,train_size = p, random_state = 42)\n",
    "    \n",
    "    return X_train, X_test, y_train, y_test\n",
    "\n",
    "\n",
    "def BayesianoNaoParametrico(X_train, X_test, y_train, y_test, classes, h):\n",
    "    P = pd.DataFrame(data=np.zeros((X_train.shape[0], len(classes))), columns = classes) \n",
    "    Pc = np.zeros(len(classes)) # Armaze a fracao de elementos em cada classe\n",
    "    for i in np.arange(0, len(classes)): # Para cada classe\n",
    "        element = tuple(np.where(y_train == classes[i])) # elementos na classe i\n",
    "        element = element[0]\n",
    "        Pc[i] = len(element)/len(y_train) # Probabilidade pertencer a classe i\n",
    "        Z = X_train[element,:] # Elementos no conjunto de treinamento\n",
    "        kde = KernelDensity(kernel='gaussian', bandwidth=h).fit(Z)\n",
    "        for j in np.arange(0,X_test.shape[0]): # para cada observacao no conjunto de teste\n",
    "            x = X_test[j,:]\n",
    "            x = x.reshape((1,len(x)))\n",
    "            # calcula a probabilidade pertencer a cada classe\n",
    "            pj = np.exp(kde.score_samples(x)) \n",
    "            P[classes[i]][j] = pj*Pc[i]\n",
    "\n",
    "    y_pred = [] # Vetor com as classes preditas\n",
    "    for i in np.arange(0, X_test.shape[0]):\n",
    "        c = np.argmax(np.array(P.iloc[[i]]))\n",
    "        y_pred.append(classes[c])\n",
    "    y_pred = np.array(y_pred)\n",
    "    # calcula a acuracia\n",
    "    score = accuracy_score(y_pred, y_test)\n",
    "#   print('Acuracia:', score)\n",
    "    return score\n",
    "\n"
   ]
  },
  {
   "cell_type": "code",
   "execution_count": 11,
   "metadata": {
    "id": "mOahT1YtNz8j"
   },
   "outputs": [
    {
     "name": "stdout",
     "output_type": "stream",
     "text": [
      "\n",
      "score_BNaoParametrico: [0.6428571428571429, 0.6688311688311688, 0.7467532467532467, 0.7012987012987013, 0.6558441558441559, 0.6428571428571429]\n"
     ]
    },
    {
     "data": {
      "image/png": "[encoded data removed]",
      "text/plain": [
       "<Figure size 432x288 with 1 Axes>"
      ]
     },
     "metadata": {
      "needs_background": "light"
     },
     "output_type": "display_data"
    }
   ],
   "source": [
    "\n",
    "score_BNaoParametrico = []\n",
    "\n",
    "vh = [0.1, 0.5, 1, 1.5, 2, 5, ]\n",
    "for h in vh:\n",
    "    X_train, X_test, y_train, y_test = transformer(X , y)\n",
    "    score_BNaoParametrico.append(BayesianoNaoParametrico(X_train, X_test, y_train, y_test, classes, h))\n",
    "print(\"\\nscore_BNaoParametrico:\" ,score_BNaoParametrico)\n",
    "\n",
    "\n",
    "\n",
    "# BayesianoParametrico\n",
    "plt.plot(vh, score_BNaoParametrico, 'go-',label='BayesianoNaoParametrico')\n",
    "plt.xlabel('hiperparametro', fontsize = 15)\n",
    "plt.ylabel('Acuracia',fontsize = 15)\n",
    "plt.legend(fontsize = 15)\n",
    "plt.show(True)  "
   ]
  },
  {
   "cell_type": "markdown",
   "metadata": {
    "id": "rlp8pq_ANz8k"
   },
   "source": [
    "#### O hiperparâmetro h = 1.5 apresentou a melhor acurácia (acc = 0.73)"
   ]
  },
  {
   "cell_type": "code",
   "execution_count": null,
   "metadata": {},
   "outputs": [],
   "source": []
  }
 ],
 "metadata": {
  "colab": {
   "name": "exercicio_2.ipynb",
   "provenance": []
  },
  "kernelspec": {
   "display_name": "Python 3",
   "language": "python",
   "name": "python3"
  },
  "language_info": {
   "codemirror_mode": {
    "name": "ipython",
    "version": 3
   },
   "file_extension": ".py",
   "mimetype": "text/x-python",
   "name": "python",
   "nbconvert_exporter": "python",
   "pygments_lexer": "ipython3",
   "version": "3.7.7"
  }
 },
 "nbformat": 4,
 "nbformat_minor": 1
}
